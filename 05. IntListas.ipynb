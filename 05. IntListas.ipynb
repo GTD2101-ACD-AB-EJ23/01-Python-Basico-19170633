{
  "cells": [
    {
      "cell_type": "markdown",
      "metadata": {
        "id": "view-in-github",
        "colab_type": "text"
      },
      "source": [
        "<a href=\"https://colab.research.google.com/github/GTD2101-ACD-AB-EJ23/01-Python-Basico-19170633/blob/main/05.%20IntListas.ipynb\" target=\"_parent\"><img src=\"https://colab.research.google.com/assets/colab-badge.svg\" alt=\"Open In Colab\"/></a>"
      ]
    },
    {
      "cell_type": "markdown",
      "metadata": {
        "id": "Tp6rnluTxxG7"
      },
      "source": [
        "# Introducción a Listas\n",
        "\n",
        "En este JNB se revisará el tema de Introducción a Listas"
      ]
    },
    {
      "cell_type": "code",
      "execution_count": null,
      "metadata": {
        "id": "O8NoTzxjs2wK",
        "outputId": "7cde219e-bcf2-4d64-fca9-9485cfd3f3c5",
        "colab": {
          "base_uri": "https://localhost:8080/"
        }
      },
      "outputs": [
        {
          "output_type": "stream",
          "name": "stdout",
          "text": [
            "Enero\n",
            "Diciembre\n",
            "Diciembre\n"
          ]
        }
      ],
      "source": [
        "meses = [\"Enero\", \"Febrero\", \"Marzo\", \"Abril\", \"Mayo\", \"Junio\", \"Julio\", \"Agosto\", \"Septiembre\", \"Octubre\", \"Noviembre\", \"Diciembre\"]\n",
        "\n",
        "print(meses[0])\n",
        "print(meses[11])\n",
        "print(meses[-1])"
      ]
    },
    {
      "cell_type": "markdown",
      "source": [
        "### Slicing\n",
        "\n",
        "En general se puede haceer el *slice* de un string en cualquierea de las siguientes maneras:\n",
        "\n",
        " * \"slicing\"[ini:fin] # Del índice ini hasta el índice fin - 1\n",
        " * \"slicing\"[ini:]    # Del índice ini hasta el final del string\n",
        " * \"slicing\"[:fin]    # Del inicio del string hasta fin - 1\n",
        " * \"slicing\"[:]       # Una copia del string\n"
      ],
      "metadata": {
        "id": "Kg2xOqPdARfv"
      }
    },
    {
      "cell_type": "code",
      "source": [
        "leng = 'Python'\n",
        "print(leng[0:4])\n",
        "print(leng[:4])\n",
        "print(leng[:-4])\n",
        "print(leng[3:])"
      ],
      "metadata": {
        "id": "cpo4ByDcAUQJ",
        "outputId": "5bb8c5cf-fdbf-4359-e184-68444c58571f",
        "colab": {
          "base_uri": "https://localhost:8080/"
        }
      },
      "execution_count": null,
      "outputs": [
        {
          "output_type": "stream",
          "name": "stdout",
          "text": [
            "Pyth\n",
            "Pyth\n",
            "Py\n",
            "hon\n"
          ]
        }
      ]
    }
  ],
  "metadata": {
    "colab": {
      "provenance": [],
      "include_colab_link": true
    },
    "kernelspec": {
      "display_name": "Python 3.10.7 64-bit",
      "language": "python",
      "name": "python3"
    },
    "language_info": {
      "codemirror_mode": {
        "name": "ipython",
        "version": 3
      },
      "file_extension": ".py",
      "mimetype": "text/x-python",
      "name": "python",
      "nbconvert_exporter": "python",
      "pygments_lexer": "ipython3",
      "version": "3.10.7"
    },
    "orig_nbformat": 4,
    "vscode": {
      "interpreter": {
        "hash": "eb4a0ac80907d7f44e1a5e88d3d3381b33e3dbedd3a24d113e876f30a0c46bee"
      }
    }
  },
  "nbformat": 4,
  "nbformat_minor": 0
}