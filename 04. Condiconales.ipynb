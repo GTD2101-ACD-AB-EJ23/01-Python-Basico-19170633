{
  "cells": [
    {
      "cell_type": "markdown",
      "metadata": {
        "id": "view-in-github",
        "colab_type": "text"
      },
      "source": [
        "<a href=\"https://colab.research.google.com/github/GTD2101-ACD-AB-EJ23/01-Python-Basico-19170633/blob/main/04.%20Condiconales.ipynb\" target=\"_parent\"><img src=\"https://colab.research.google.com/assets/colab-badge.svg\" alt=\"Open In Colab\"/></a>"
      ]
    },
    {
      "cell_type": "markdown",
      "metadata": {
        "id": "mE9LfCaZtDa8"
      },
      "source": [
        "# Condiciones y Estatutos Condicionales\n",
        "\n",
        "En este JNB se revisará el tema de Condiciones y Estatutos Condicionales"
      ]
    },
    {
      "cell_type": "code",
      "execution_count": 3,
      "metadata": {
        "id": "O8NoTzxjs2wK",
        "outputId": "4c3bc7d4-7640-407f-a5af-e0594698b9c6",
        "colab": {
          "base_uri": "https://localhost:8080/"
        }
      },
      "outputs": [
        {
          "output_type": "stream",
          "name": "stdout",
          "text": [
            "Ingrese su edad: 21\n",
            "Usted es un adulto\n"
          ]
        }
      ],
      "source": [
        "edad = int(input(\"Ingrese su edad: \"))\n",
        "if edad >= 100:\n",
        "  print(\"Usted es un centenario\")\n",
        "elif edad >= 65:\n",
        "  print(\"Usted es un adulto mayor\")\n",
        "elif edad >= 18:\n",
        "  print(\"Usted es un adulto\")\n",
        "elif edad >= 13:\n",
        "  print(\"Usted es un adolescente\")\n",
        "elif edad >= 4:\n",
        "  print(\"Usted es un niño\")\n",
        "else:\n",
        "  print(\"Usted es un bebe\")"
      ]
    }
  ],
  "metadata": {
    "colab": {
      "provenance": [],
      "include_colab_link": true
    },
    "kernelspec": {
      "display_name": "Python 3.10.7 64-bit",
      "language": "python",
      "name": "python3"
    },
    "language_info": {
      "codemirror_mode": {
        "name": "ipython",
        "version": 3
      },
      "file_extension": ".py",
      "mimetype": "text/x-python",
      "name": "python",
      "nbconvert_exporter": "python",
      "pygments_lexer": "ipython3",
      "version": "3.10.7"
    },
    "orig_nbformat": 4,
    "vscode": {
      "interpreter": {
        "hash": "eb4a0ac80907d7f44e1a5e88d3d3381b33e3dbedd3a24d113e876f30a0c46bee"
      }
    }
  },
  "nbformat": 4,
  "nbformat_minor": 0
}